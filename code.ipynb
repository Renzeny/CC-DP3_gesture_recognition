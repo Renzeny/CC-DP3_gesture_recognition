{
 "cells": [
  {
   "cell_type": "markdown",
   "metadata": {},
   "source": [
    "# Project CC-DP3 \n",
    "\n",
    "In this notebook we will show how gesture control can be used for sending commands to an agent, the agent will eventually execute an order related to this gesture.\n",
    "\n",
    "In this example we use an external webcam to record the livestream of given gestures and will display an animation in real-time to confirm the action related to the gesture.\n",
    "\n",
    "The gestures are as follows: \n",
    "\n",
    "    - FOLLOW: \n",
    "    - STOP:\n",
    "    - (Optional) FETCH: \n"
   ]
  },
  {
   "cell_type": "code",
   "execution_count": null,
   "metadata": {
    "vscode": {
     "languageId": "plaintext"
    }
   },
   "outputs": [],
   "source": []
  }
 ],
 "metadata": {
  "language_info": {
   "name": "python"
  }
 },
 "nbformat": 4,
 "nbformat_minor": 2
}
